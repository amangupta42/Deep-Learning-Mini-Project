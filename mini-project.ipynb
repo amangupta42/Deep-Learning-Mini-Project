{
 "cells": [
  {
   "cell_type": "markdown",
   "id": "e4c656c7-8432-423d-b69d-881ee6b5e3c0",
   "metadata": {},
   "source": [
    "Imports"
   ]
  },
  {
   "cell_type": "code",
   "execution_count": 1,
   "id": "1a8ae392-c63b-4780-9e49-20f1c93a19aa",
   "metadata": {},
   "outputs": [],
   "source": [
    "import torch\n",
    "import torch.nn as nn\n",
    "import torch.nn.functional as F\n",
    "from torchsummary import summary\n",
    "import torchvision\n",
    "import torchvision.transforms as transforms\n",
    "import torch.optim as optim\n",
    "import matplotlib.pyplot as plt"
   ]
  },
  {
   "cell_type": "markdown",
   "id": "3ec8379b-38b9-4480-8741-7fb84deacaf9",
   "metadata": {},
   "source": [
    "Creating the Resnet Block"
   ]
  },
  {
   "cell_type": "code",
   "execution_count": 2,
   "id": "dd5d8aef-bf2d-4d5b-8cd1-43d3e3182ca7",
   "metadata": {},
   "outputs": [],
   "source": [
    "class ResBlock(nn.Module):\n",
    "    def __init__(self, in_channels, out_channels, downsample):\n",
    "        super().__init__()\n",
    "        if downsample:\n",
    "            self.conv1 = nn.Conv2d(in_channels, out_channels, kernel_size=3, stride=2, padding=1)\n",
    "            self.shortcut = nn.Sequential(\n",
    "                nn.Conv2d(in_channels, out_channels, kernel_size=1, stride=2),\n",
    "                nn.BatchNorm2d(out_channels)\n",
    "            )\n",
    "        else:\n",
    "            self.conv1 = nn.Conv2d(in_channels, out_channels, kernel_size=3, stride=1, padding=1)\n",
    "            self.shortcut = nn.Sequential()\n",
    "\n",
    "        self.conv2 = nn.Conv2d(out_channels, out_channels, kernel_size=3, stride=1, padding=1)\n",
    "        self.bn1 = nn.BatchNorm2d(out_channels)\n",
    "        self.bn2 = nn.BatchNorm2d(out_channels)\n",
    "\n",
    "    def forward(self, input):\n",
    "        shortcut = self.shortcut(input)\n",
    "        input = nn.ReLU()(self.bn1(self.conv1(input)))\n",
    "        input = self.bn2(self.conv2(input))\n",
    "        input = input + shortcut\n",
    "        return nn.ReLU()(input)\n"
   ]
  },
  {
   "cell_type": "markdown",
   "id": "d4c86c0e-cc7e-49d6-9b48-89bb43515e0a",
   "metadata": {},
   "source": [
    "Creating the ResNet"
   ]
  },
  {
   "cell_type": "code",
   "execution_count": 3,
   "id": "3280c5f2-7344-4ad8-831a-90e7886d60e0",
   "metadata": {},
   "outputs": [],
   "source": [
    "class ResNet18(nn.Module):\n",
    "    def __init__(self, in_channels, resblock, outputs=10):\n",
    "        super().__init__()\n",
    "        self.layer0 = nn.Sequential(\n",
    "            nn.Conv2d(3, 42, kernel_size=3, stride=1, padding=1),\n",
    "            nn.BatchNorm2d(42),\n",
    "            nn.ReLU()\n",
    "        )\n",
    "\n",
    "        self.layer1 = nn.Sequential(\n",
    "            resblock(42, 42, downsample=False),\n",
    "            resblock(42, 42, downsample=False)\n",
    "        )\n",
    "\n",
    "        self.layer2 = nn.Sequential(\n",
    "            resblock(42, 84, downsample=True),\n",
    "            resblock(84, 84, downsample=False)\n",
    "        )\n",
    "\n",
    "        self.layer3 = nn.Sequential(\n",
    "            resblock(84, 168, downsample=True),\n",
    "            resblock(168, 168, downsample=False)\n",
    "        )\n",
    "\n",
    "        self.layer4 = nn.Sequential(\n",
    "            resblock(168, 336, downsample=True),\n",
    "            resblock(336, 336, downsample=False)\n",
    "        )\n",
    "\n",
    "        self.fc = torch.nn.Linear(336, outputs)\n",
    "\n",
    "    def forward(self, input):\n",
    "        # print(input.shape)\n",
    "        input = self.layer0(input)\n",
    "        # print(input.shape)\n",
    "        input = self.layer1(input)\n",
    "        # print(input.shape)\n",
    "        input = self.layer2(input)\n",
    "        # print(input.shape)\n",
    "        input = self.layer3(input)\n",
    "        # print(input.shape)\n",
    "        input = self.layer4(input)\n",
    "        # print(input.shape)\n",
    "        input = F.avg_pool2d(input, 4)\n",
    "        # print(input.shape)\n",
    "        input = input.view(input.size(0), -1)\n",
    "        # print(input.shape)\n",
    "        input = self.fc(input)\n",
    "        # print(input.shape)\n",
    "\n",
    "        return input"
   ]
  },
  {
   "cell_type": "markdown",
   "id": "9ef1c3a8-7d83-49e0-899e-63381f5d29aa",
   "metadata": {},
   "source": [
    "Summary:"
   ]
  },
  {
   "cell_type": "code",
   "execution_count": 4,
   "id": "5ddfc31c-4f78-4da1-915b-84872e2d8604",
   "metadata": {},
   "outputs": [
    {
     "name": "stdout",
     "output_type": "stream",
     "text": [
      "----------------------------------------------------------------\n",
      "        Layer (type)               Output Shape         Param #\n",
      "================================================================\n",
      "            Conv2d-1           [-1, 42, 32, 32]           1,176\n",
      "       BatchNorm2d-2           [-1, 42, 32, 32]              84\n",
      "              ReLU-3           [-1, 42, 32, 32]               0\n",
      "            Conv2d-4           [-1, 42, 32, 32]          15,918\n",
      "       BatchNorm2d-5           [-1, 42, 32, 32]              84\n",
      "            Conv2d-6           [-1, 42, 32, 32]          15,918\n",
      "       BatchNorm2d-7           [-1, 42, 32, 32]              84\n",
      "          ResBlock-8           [-1, 42, 32, 32]               0\n",
      "            Conv2d-9           [-1, 42, 32, 32]          15,918\n",
      "      BatchNorm2d-10           [-1, 42, 32, 32]              84\n",
      "           Conv2d-11           [-1, 42, 32, 32]          15,918\n",
      "      BatchNorm2d-12           [-1, 42, 32, 32]              84\n",
      "         ResBlock-13           [-1, 42, 32, 32]               0\n",
      "           Conv2d-14           [-1, 84, 16, 16]           3,612\n",
      "      BatchNorm2d-15           [-1, 84, 16, 16]             168\n",
      "           Conv2d-16           [-1, 84, 16, 16]          31,836\n",
      "      BatchNorm2d-17           [-1, 84, 16, 16]             168\n",
      "           Conv2d-18           [-1, 84, 16, 16]          63,588\n",
      "      BatchNorm2d-19           [-1, 84, 16, 16]             168\n",
      "         ResBlock-20           [-1, 84, 16, 16]               0\n",
      "           Conv2d-21           [-1, 84, 16, 16]          63,588\n",
      "      BatchNorm2d-22           [-1, 84, 16, 16]             168\n",
      "           Conv2d-23           [-1, 84, 16, 16]          63,588\n",
      "      BatchNorm2d-24           [-1, 84, 16, 16]             168\n",
      "         ResBlock-25           [-1, 84, 16, 16]               0\n",
      "           Conv2d-26            [-1, 168, 8, 8]          14,280\n",
      "      BatchNorm2d-27            [-1, 168, 8, 8]             336\n",
      "           Conv2d-28            [-1, 168, 8, 8]         127,176\n",
      "      BatchNorm2d-29            [-1, 168, 8, 8]             336\n",
      "           Conv2d-30            [-1, 168, 8, 8]         254,184\n",
      "      BatchNorm2d-31            [-1, 168, 8, 8]             336\n",
      "         ResBlock-32            [-1, 168, 8, 8]               0\n",
      "           Conv2d-33            [-1, 168, 8, 8]         254,184\n",
      "      BatchNorm2d-34            [-1, 168, 8, 8]             336\n",
      "           Conv2d-35            [-1, 168, 8, 8]         254,184\n",
      "      BatchNorm2d-36            [-1, 168, 8, 8]             336\n",
      "         ResBlock-37            [-1, 168, 8, 8]               0\n",
      "           Conv2d-38            [-1, 336, 4, 4]          56,784\n",
      "      BatchNorm2d-39            [-1, 336, 4, 4]             672\n",
      "           Conv2d-40            [-1, 336, 4, 4]         508,368\n",
      "      BatchNorm2d-41            [-1, 336, 4, 4]             672\n",
      "           Conv2d-42            [-1, 336, 4, 4]       1,016,400\n",
      "      BatchNorm2d-43            [-1, 336, 4, 4]             672\n",
      "         ResBlock-44            [-1, 336, 4, 4]               0\n",
      "           Conv2d-45            [-1, 336, 4, 4]       1,016,400\n",
      "      BatchNorm2d-46            [-1, 336, 4, 4]             672\n",
      "           Conv2d-47            [-1, 336, 4, 4]       1,016,400\n",
      "      BatchNorm2d-48            [-1, 336, 4, 4]             672\n",
      "         ResBlock-49            [-1, 336, 4, 4]               0\n",
      "           Linear-50                   [-1, 10]           3,370\n",
      "================================================================\n",
      "Total params: 4,819,090\n",
      "Trainable params: 4,819,090\n",
      "Non-trainable params: 0\n",
      "----------------------------------------------------------------\n",
      "Input size (MB): 0.01\n",
      "Forward/backward pass size (MB): 7.71\n",
      "Params size (MB): 18.38\n",
      "Estimated Total Size (MB): 26.11\n",
      "----------------------------------------------------------------\n"
     ]
    }
   ],
   "source": [
    "resnet18 = ResNet18(3, ResBlock, outputs=10)\n",
    "resnet18.to(torch.device(\"cuda:0\" if torch.cuda.is_available() else \"cpu\"))\n",
    "summary(resnet18, (3, 32, 32))"
   ]
  },
  {
   "cell_type": "markdown",
   "id": "25429b29-5105-432d-a189-edbc25c6e4c3",
   "metadata": {},
   "source": [
    "Defining function for training"
   ]
  },
  {
   "cell_type": "code",
   "execution_count": 5,
   "id": "6e1a7849-3ae3-434c-9197-aeee513cb2e3",
   "metadata": {},
   "outputs": [],
   "source": [
    "# Training\n",
    "train_accs = [] \n",
    "\n",
    "\n",
    "def train(epoch):\n",
    "    print('\\nEpoch: %d' % epoch)\n",
    "    net.train()\n",
    "    train_loss = 0\n",
    "    correct = 0\n",
    "    total = 0\n",
    "    for batch_idx, (inputs, targets) in enumerate(trainloader):\n",
    "        inputs, targets = inputs.to(device), targets.to(device)\n",
    "        optimizer.zero_grad()\n",
    "        outputs = net(inputs)\n",
    "        loss = criterion(outputs, targets)\n",
    "        loss.backward()\n",
    "        optimizer.step()\n",
    "\n",
    "        train_loss += loss.item()\n",
    "        _, predicted = outputs.max(1)\n",
    "        total += targets.size(0)\n",
    "        correct += predicted.eq(targets).sum().item()\n",
    "    train_acc=correct*100/total\n",
    "    train_accs.append(train_acc)\n",
    "    print(\"Train accuracy = \"+str(correct)+\"/\"+str(total)+\" = \"+str(train_acc))\n",
    "\n"
   ]
  },
  {
   "cell_type": "markdown",
   "id": "35175111-504d-4c25-ba49-40feea02a6e8",
   "metadata": {},
   "source": [
    "Defining function for testing"
   ]
  },
  {
   "cell_type": "code",
   "execution_count": 6,
   "id": "e405f15a-65c3-48cb-ad31-aa6e85977e34",
   "metadata": {},
   "outputs": [],
   "source": [
    "# Testing\n",
    "test_accs = []\n",
    "def test(epoch):\n",
    "    global best_acc\n",
    "    net.eval()\n",
    "    test_loss = 0\n",
    "    correct = 0\n",
    "    total = 0\n",
    "    best_acc = 0\n",
    "    with torch.no_grad():\n",
    "        for batch_idx, (inputs, targets) in enumerate(testloader):\n",
    "            inputs, targets = inputs.to(device), targets.to(device)\n",
    "            outputs = net(inputs)\n",
    "            loss = criterion(outputs, targets)\n",
    "\n",
    "            test_loss += loss.item()\n",
    "            _, predicted = outputs.max(1)\n",
    "            total += targets.size(0)\n",
    "            correct += predicted.eq(targets).sum().item()\n",
    "    acc = 100.*correct/total\n",
    "    test_accs.append(acc)\n",
    "    if acc > best_acc:\n",
    "        best_acc = acc\n",
    "\n",
    "    print(\"Test accuracy = \" + str(correct) + \"/\" + str(total)+\" = \" + str(acc))"
   ]
  },
  {
   "cell_type": "markdown",
   "id": "38b7e911-8432-49c5-b692-cb957229f15c",
   "metadata": {},
   "source": [
    "Defining function for plotting testing and training accuracies over epochs"
   ]
  },
  {
   "cell_type": "code",
   "execution_count": 7,
   "id": "7fc47e96-64ae-41ca-b46e-a1610388f48e",
   "metadata": {},
   "outputs": [],
   "source": [
    "#Plot\n",
    "def plot_accs(a,b,epoch,value):\n",
    "    plt.plot(a,label='Training accuracies')\n",
    "    plt.plot(b,label='Test accuracies')\n",
    "    plt.xlabel('Epochs')\n",
    "    plt.ylabel('Accuracy')\n",
    "    plt.xlim([0,40])\n",
    "    plt.ylim([0,100])\n",
    "    plt.annotate('Max Accuracy '+str(max(test_accs)) , xy=(epoch, value), xytext=(35, 10),\n",
    "            arrowprops=dict(arrowstyle='->'),\n",
    "            )\n",
    "    plt.legend()\n",
    "    plt.show()"
   ]
  },
  {
   "cell_type": "markdown",
   "id": "5e0656f5-cc68-40df-a996-8e7597b06a6e",
   "metadata": {},
   "source": [
    "Getting the data and setting up data loaders for training and testing."
   ]
  },
  {
   "cell_type": "code",
   "execution_count": 8,
   "id": "dcafd9ca-f72d-439e-b5a7-9ec04ce2ef80",
   "metadata": {},
   "outputs": [
    {
     "name": "stdout",
     "output_type": "stream",
     "text": [
      "==> Preparing data..\n",
      "Files already downloaded and verified\n",
      "Files already downloaded and verified\n"
     ]
    }
   ],
   "source": [
    "# Data\n",
    "print('==> Preparing data..')\n",
    "transform_train = transforms.Compose([\n",
    "    transforms.RandomCrop(32, padding=4),\n",
    "    transforms.RandomHorizontalFlip(),\n",
    "    transforms.ToTensor(),\n",
    "    transforms.Normalize((0.4914, 0.4822, 0.4465), (0.2023, 0.1994, 0.2010)),\n",
    "])\n",
    "\n",
    "transform_test = transforms.Compose([\n",
    "    transforms.ToTensor(),\n",
    "    transforms.Normalize((0.4914, 0.4822, 0.4465), (0.2023, 0.1994, 0.2010)),\n",
    "])\n",
    "\n",
    "trainset = torchvision.datasets.CIFAR10(\n",
    "    root='./data', train=True, download=True, transform=transform_train)\n",
    "trainloader = torch.utils.data.DataLoader(\n",
    "    trainset, batch_size=128, shuffle=True, num_workers=2)\n",
    "\n",
    "testset = torchvision.datasets.CIFAR10(\n",
    "    root='./data', train=False, download=True, transform=transform_test)\n",
    "testloader = torch.utils.data.DataLoader(\n",
    "    testset, batch_size=100, shuffle=False, num_workers=2)\n",
    "\n",
    "classes = ('plane', 'car', 'bird', 'cat', 'deer',\n",
    "           'dog', 'frog', 'horse', 'ship', 'truck')\n"
   ]
  },
  {
   "cell_type": "code",
   "execution_count": 9,
   "id": "0ba52428-09e2-4bd0-b2af-b1273533784c",
   "metadata": {},
   "outputs": [],
   "source": [
    "def initialize():\n",
    "    global criterion\n",
    "    global device\n",
    "    criterion = nn.CrossEntropyLoss()\n",
    "    device = \"cuda:0\" if torch.cuda.is_available() else \"cpu\"\n",
    "    resnet18 = ResNet18(3, ResBlock, outputs=10)\n",
    "    resnet18.to(torch.device(\"cuda:0\" if torch.cuda.is_available() else \"cpu\"))\n",
    "    return resnet18"
   ]
  },
  {
   "cell_type": "code",
   "execution_count": 10,
   "id": "0a5c5282-b77e-4065-a913-816431642cf4",
   "metadata": {},
   "outputs": [],
   "source": [
    "net=initialize()"
   ]
  },
  {
   "cell_type": "markdown",
   "id": "7615dc77-2e31-4b81-b4ea-6382b1b0bff4",
   "metadata": {},
   "source": [
    "Defining the optimizer with initial parameters : LR = 0.1, Momentum = 0.9 and Weight Decay = 5e-4"
   ]
  },
  {
   "cell_type": "code",
   "execution_count": 11,
   "id": "58be2859-7f99-4940-a978-94ebb5300446",
   "metadata": {
    "tags": []
   },
   "outputs": [],
   "source": [
    "optimizer = optim.SGD(net.parameters(), lr=0.1,\n",
    "                      momentum=0.9, weight_decay=5e-4)\n",
    "scheduler = torch.optim.lr_scheduler.CosineAnnealingLR(optimizer, T_max=200)"
   ]
  },
  {
   "cell_type": "markdown",
   "id": "6301be12-6d6e-40b7-ad0a-58d363f48842",
   "metadata": {},
   "source": [
    "Train and test the model in each epoch"
   ]
  },
  {
   "cell_type": "code",
   "execution_count": null,
   "id": "4c3e4e7f-b5e5-49bc-9bc2-52d92fbbe004",
   "metadata": {
    "tags": []
   },
   "outputs": [
    {
     "name": "stdout",
     "output_type": "stream",
     "text": [
      "\n",
      "Epoch: 0\n",
      "Train accuracy = 18443/50000 = 36.886\n",
      "Test accuracy = 4758/10000 = 47.58\n",
      "\n",
      "Epoch: 1\n",
      "Train accuracy = 27524/50000 = 55.048\n",
      "Test accuracy = 5992/10000 = 59.92\n",
      "\n",
      "Epoch: 2\n",
      "Train accuracy = 33011/50000 = 66.022\n",
      "Test accuracy = 6423/10000 = 64.23\n",
      "\n",
      "Epoch: 3\n",
      "Train accuracy = 36191/50000 = 72.382\n",
      "Test accuracy = 7168/10000 = 71.68\n",
      "\n",
      "Epoch: 4\n",
      "Train accuracy = 38195/50000 = 76.39\n",
      "Test accuracy = 7201/10000 = 72.01\n",
      "\n",
      "Epoch: 5\n",
      "Train accuracy = 39560/50000 = 79.12\n",
      "Test accuracy = 7777/10000 = 77.77\n",
      "\n",
      "Epoch: 6\n",
      "Train accuracy = 40154/50000 = 80.308\n",
      "Test accuracy = 7305/10000 = 73.05\n",
      "\n",
      "Epoch: 7\n",
      "Train accuracy = 40828/50000 = 81.656\n",
      "Test accuracy = 7336/10000 = 73.36\n",
      "\n",
      "Epoch: 8\n",
      "Train accuracy = 41126/50000 = 82.252\n",
      "Test accuracy = 8184/10000 = 81.84\n",
      "\n",
      "Epoch: 9\n",
      "Train accuracy = 41466/50000 = 82.932\n",
      "Test accuracy = 7349/10000 = 73.49\n",
      "\n",
      "Epoch: 10\n",
      "Train accuracy = 41703/50000 = 83.406\n",
      "Test accuracy = 7691/10000 = 76.91\n",
      "\n",
      "Epoch: 11\n",
      "Train accuracy = 41971/50000 = 83.942\n",
      "Test accuracy = 7953/10000 = 79.53\n",
      "\n",
      "Epoch: 12\n",
      "Train accuracy = 42066/50000 = 84.132\n",
      "Test accuracy = 7607/10000 = 76.07\n",
      "\n",
      "Epoch: 13\n",
      "Train accuracy = 42462/50000 = 84.924\n",
      "Test accuracy = 7209/10000 = 72.09\n",
      "\n",
      "Epoch: 14\n",
      "Train accuracy = 42528/50000 = 85.056\n",
      "Test accuracy = 8126/10000 = 81.26\n",
      "\n",
      "Epoch: 15\n",
      "Train accuracy = 42565/50000 = 85.13\n",
      "Test accuracy = 8358/10000 = 83.58\n",
      "\n",
      "Epoch: 16\n",
      "Train accuracy = 42825/50000 = 85.65\n",
      "Test accuracy = 8033/10000 = 80.33\n",
      "\n",
      "Epoch: 17\n",
      "Train accuracy = 42841/50000 = 85.682\n",
      "Test accuracy = 8217/10000 = 82.17\n",
      "\n",
      "Epoch: 18\n"
     ]
    }
   ],
   "source": [
    "for epoch in range(40):\n",
    "    train(epoch)\n",
    "    test(epoch)\n",
    "    scheduler.step()\n"
   ]
  },
  {
   "cell_type": "markdown",
   "id": "9e326a8e-3d7f-441e-a64e-fb7003c2d010",
   "metadata": {
    "tags": []
   },
   "source": [
    "Plot the accuracies"
   ]
  },
  {
   "cell_type": "code",
   "execution_count": null,
   "id": "dbdd23de-3dc2-4668-9c1b-27df678b4dce",
   "metadata": {},
   "outputs": [],
   "source": [
    "plot_accs(train_accs, test_accs, max(range(len(test_accs)), key = test_accs.__getitem__), max(test_accs))"
   ]
  },
  {
   "cell_type": "code",
   "execution_count": null,
   "id": "ff67cc92-5cce-4669-9c2d-26a6bf0ff26d",
   "metadata": {},
   "outputs": [],
   "source": [
    "print( \" Best Accuracy = \"+str(max(test_accs)))"
   ]
  },
  {
   "cell_type": "markdown",
   "id": "334b9d24-db2d-4b9e-aefc-6ea8406f963c",
   "metadata": {},
   "source": [
    "Refreshing our model."
   ]
  },
  {
   "cell_type": "code",
   "execution_count": null,
   "id": "8cb37714-e85c-468f-aabe-809517fcbf31",
   "metadata": {},
   "outputs": [],
   "source": [
    "net=initialize()"
   ]
  },
  {
   "cell_type": "markdown",
   "id": "9e067b61-f7e3-470c-acde-9733b1fe8a95",
   "metadata": {},
   "source": [
    "Changing the optimizer with new parameters : LR = 0.1, Momentum = 0.5 and Weight Decay = 5e-4"
   ]
  },
  {
   "cell_type": "code",
   "execution_count": null,
   "id": "7e743fec-ef2c-4111-ae0f-718cec841cfc",
   "metadata": {},
   "outputs": [],
   "source": [
    "optimizer = optim.SGD(net.parameters(), lr=0.1,\n",
    "                      momentum=0.5, weight_decay=5e-4)\n",
    "scheduler = torch.optim.lr_scheduler.CosineAnnealingLR(optimizer, T_max=200)"
   ]
  },
  {
   "cell_type": "markdown",
   "id": "996cba4d-d022-47fc-86de-f2e0c12046d5",
   "metadata": {},
   "source": [
    "Train and test the model in each epoch"
   ]
  },
  {
   "cell_type": "code",
   "execution_count": null,
   "id": "a2d09dea-00f4-42fd-83b8-42f2048cf95a",
   "metadata": {
    "tags": []
   },
   "outputs": [],
   "source": [
    "train_accs,test_accs=[],[]\n",
    "for epoch in range(40):\n",
    "    train(epoch)\n",
    "    test(epoch)\n",
    "    scheduler.step()"
   ]
  },
  {
   "cell_type": "markdown",
   "id": "c08dd329-13ef-4674-bf52-92d00ab812e8",
   "metadata": {},
   "source": [
    "Plot the accuracies"
   ]
  },
  {
   "cell_type": "code",
   "execution_count": null,
   "id": "533b02ca-4991-4013-b5b1-3c0f60075550",
   "metadata": {
    "tags": []
   },
   "outputs": [],
   "source": [
    "plot_accs(train_accs, test_accs, max(range(len(test_accs)), key = test_accs.__getitem__), max(test_accs))"
   ]
  },
  {
   "cell_type": "markdown",
   "id": "09cdae2e-4b9f-406e-b3b8-c23aa836ad52",
   "metadata": {},
   "source": [
    "Refreshing our model."
   ]
  },
  {
   "cell_type": "code",
   "execution_count": null,
   "id": "b9a16d79-4806-4a30-adc3-5e9669692df3",
   "metadata": {},
   "outputs": [],
   "source": [
    "net=initialize()"
   ]
  },
  {
   "cell_type": "markdown",
   "id": "1a8a5d19-a4f9-4a9c-8b85-2d7478019d2f",
   "metadata": {},
   "source": [
    "Changing the optimizer with new parameters : LR = 0.1, Momentum = 0.0005 and Weight Decay = 5e-4"
   ]
  },
  {
   "cell_type": "code",
   "execution_count": null,
   "id": "80e8d710-4cc3-4fc4-b66c-10d52b595bce",
   "metadata": {},
   "outputs": [],
   "source": [
    "optimizer = optim.SGD(net.parameters(), lr=0.1,\n",
    "                      momentum=0.0005, weight_decay=5e-4)\n",
    "scheduler = torch.optim.lr_scheduler.CosineAnnealingLR(optimizer, T_max=200)"
   ]
  },
  {
   "cell_type": "markdown",
   "id": "e11a4bac-7f78-4286-b1f7-a472b700b684",
   "metadata": {},
   "source": [
    "Train and test the model in each epoch"
   ]
  },
  {
   "cell_type": "code",
   "execution_count": null,
   "id": "21169264-05c9-474e-b3c2-9648adee61ed",
   "metadata": {
    "tags": []
   },
   "outputs": [],
   "source": [
    "train_accs,test_accs=[],[]\n",
    "for epoch in range(40):\n",
    "    train(epoch)\n",
    "    test(epoch)\n",
    "    scheduler.step()"
   ]
  },
  {
   "cell_type": "markdown",
   "id": "dc7c85d9-3073-4e07-8590-a66a1ab7405d",
   "metadata": {},
   "source": [
    "Plot the accuracies"
   ]
  },
  {
   "cell_type": "code",
   "execution_count": null,
   "id": "a05e3f6f-3210-431c-a46d-41118d471563",
   "metadata": {},
   "outputs": [],
   "source": [
    "plot_accs(train_accs, test_accs, max(range(len(test_accs)), key = test_accs.__getitem__), max(test_accs))"
   ]
  },
  {
   "cell_type": "code",
   "execution_count": null,
   "id": "e63a2017-c3ac-4899-8d94-cd87f49302c6",
   "metadata": {},
   "outputs": [],
   "source": [
    "print( \" Best Accuracy = \"+str(max(test_accs)))"
   ]
  },
  {
   "cell_type": "markdown",
   "id": "726aeb01-cb5d-41e8-a797-07df19c290f9",
   "metadata": {},
   "source": [
    "Refreshing our model."
   ]
  },
  {
   "cell_type": "code",
   "execution_count": null,
   "id": "b0755a71-0fdb-4ffd-affa-f3078b44ae9f",
   "metadata": {},
   "outputs": [],
   "source": [
    "net=initialize()"
   ]
  },
  {
   "cell_type": "markdown",
   "id": "90630e44-c504-4801-8755-4c238a458193",
   "metadata": {},
   "source": [
    "Changing the optimizer with optimized parameters : LR = 0.1, Momentum = 0.05 and Weight Decay = 1e-3"
   ]
  },
  {
   "cell_type": "code",
   "execution_count": null,
   "id": "48150f94-78c2-4999-a2b1-e2749dcd5ca4",
   "metadata": {},
   "outputs": [],
   "source": [
    "optimizer = optim.SGD(net.parameters(), lr=0.1,\n",
    "                      momentum=0.05, weight_decay=1e-3)\n",
    "scheduler = torch.optim.lr_scheduler.CosineAnnealingLR(optimizer, T_max=200)"
   ]
  },
  {
   "cell_type": "markdown",
   "id": "0fcba62c-313f-47b1-8d2f-cc4bc2071e43",
   "metadata": {},
   "source": [
    "Train and test the model in each epoch"
   ]
  },
  {
   "cell_type": "code",
   "execution_count": null,
   "id": "16c8afb8-e1bc-4462-9236-e1b688beba21",
   "metadata": {
    "tags": []
   },
   "outputs": [],
   "source": [
    "train_accs,test_accs=[],[]\n",
    "for epoch in range(40):\n",
    "    train(epoch)\n",
    "    test(epoch)\n",
    "    scheduler.step()"
   ]
  },
  {
   "cell_type": "markdown",
   "id": "2338cad8-9327-4690-869c-4f36fd913e18",
   "metadata": {},
   "source": [
    "Plot the accuracies"
   ]
  },
  {
   "cell_type": "code",
   "execution_count": null,
   "id": "22bbc9b9-70eb-4b2a-978c-f7c8550d65a8",
   "metadata": {
    "tags": []
   },
   "outputs": [],
   "source": [
    "plot_accs(train_accs, test_accs, max(range(len(test_accs)), key = test_accs.__getitem__), max(test_accs))"
   ]
  },
  {
   "cell_type": "code",
   "execution_count": null,
   "id": "cfc1ec7b-e177-4b13-89c1-fd35e1aaa3e6",
   "metadata": {},
   "outputs": [],
   "source": [
    "print( \" Best Accuracy = \"+str(max(test_accs)))"
   ]
  },
  {
   "cell_type": "code",
   "execution_count": null,
   "id": "414c065a-ecf7-46d5-b1e8-ee8869722ecb",
   "metadata": {},
   "outputs": [],
   "source": []
  }
 ],
 "metadata": {
  "kernelspec": {
   "display_name": "default:Python",
   "language": "python",
   "name": "conda-env-default-py"
  },
  "language_info": {
   "codemirror_mode": {
    "name": "ipython",
    "version": 3
   },
   "file_extension": ".py",
   "mimetype": "text/x-python",
   "name": "python",
   "nbconvert_exporter": "python",
   "pygments_lexer": "ipython3",
   "version": "3.9.13"
  }
 },
 "nbformat": 4,
 "nbformat_minor": 5
}
